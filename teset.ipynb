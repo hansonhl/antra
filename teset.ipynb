{
 "cells": [
  {
   "cell_type": "code",
   "execution_count": 1,
   "metadata": {
    "collapsed": true
   },
   "outputs": [],
   "source": [
    "%load_ext autoreload\n",
    "%autoreload 2"
   ]
  },
  {
   "cell_type": "code",
   "execution_count": 16,
   "outputs": [],
   "source": [
    "# assert len(hi_base_res) == len(hi_ivn_res) == len(lo_base_res) == len(lo_ivn_res) == len(low_ivn.keys) == len(high_ivn.keys)\n",
    "# dupes = 0\n",
    "# for lo_key, hi_key, hi_base, hi_ivn, lo_base, lo_ivn in \\\n",
    "#     zip(low_ivn.keys, high_ivn.keys, hi_base_res, hi_ivn_res, lo_base_res, lo_ivn_res):\n",
    "#     key = (lo_key, hi_key)\n",
    "#\n",
    "#     # todo\n",
    "#     if key in results:\n",
    "#         dupes += 1\n",
    "#\n",
    "#     # base_eq =  hi_base == lo_base,\n",
    "#     # ivn_eq= hi_ivn == lo_ivn,\n",
    "#     low_base_eq_ivn = lo_base == lo_ivn,\n",
    "#     high_base_eq_ivn = hi_base == hi_ivn\n",
    "#\n",
    "#     w = x = y = z = False\n",
    "#     if high_base_eq_ivn:\n",
    "#         if low_base_eq_ivn:\n",
    "#             w = True        ##\n",
    "#         else:\n",
    "#             y = True\n",
    "#     else:   # high changed\n",
    "#         if low_base_eq_ivn:\n",
    "#             x = True        ##\n",
    "#         else:\n",
    "#             z = True\n",
    "#     results[key] = dict(\n",
    "#         # key = key[1],\n",
    "#         # high_base_res=hi_base,\n",
    "#         # high_ivn_res=hi_ivn,\n",
    "#         # low_base_res=lo_base,\n",
    "#         # low_ivn_res=lo_ivn,\n",
    "#\n",
    "#         # base_eq =  hi_base == lo_base,\n",
    "#         # ivn_eq= hi_ivn == lo_ivn,\n",
    "#         # low_base_eq_ivn= lo_base == lo_ivn,\n",
    "#         # high_base_eq_ivn= hi_base == hi_ivn\n",
    "#\n",
    "#         same_same=w,\n",
    "#         diff_same=x,\n",
    "#         same_diff=y,\n",
    "#         diff_diff=z\n",
    "#     )\n",
    "#\n",
    "# return dupes, len(hi_base_res)\n",
    "#\n",
    "\n",
    "from tests.interchange import test_abstraction_medium as tam\n",
    "from antra import *\n",
    "from antra.location import reduce_dim, location_to_str\n",
    "\n",
    "from pprint import pp"
   ],
   "metadata": {
    "collapsed": false,
    "pycharm": {
     "name": "#%%\n"
    }
   }
  },
  {
   "cell_type": "code",
   "execution_count": null,
   "outputs": [],
   "source": [
    "# tam.test_abstraction_medium()"
   ],
   "metadata": {
    "collapsed": false,
    "pycharm": {
     "name": "#%%\n"
    }
   }
  },
  {
   "cell_type": "code",
   "execution_count": 11,
   "outputs": [
    {
     "name": "stdout",
     "output_type": "stream",
     "text": [
      "[GraphInput({'leaf1': tensor(-1.), 'leaf2': tensor(-1.), 'leaf3': tensor(-1.)}),\n",
      " GraphInput({'leaf1': tensor(-1.), 'leaf2': tensor(-1.), 'leaf3': tensor(1.)}),\n",
      " GraphInput({'leaf1': tensor(-1.), 'leaf2': tensor(1.), 'leaf3': tensor(-1.)}),\n",
      " GraphInput({'leaf1': tensor(-1.), 'leaf2': tensor(1.), 'leaf3': tensor(1.)}),\n",
      " GraphInput({'leaf1': tensor(1.), 'leaf2': tensor(-1.), 'leaf3': tensor(-1.)}),\n",
      " GraphInput({'leaf1': tensor(1.), 'leaf2': tensor(-1.), 'leaf3': tensor(1.)}),\n",
      " GraphInput({'leaf1': tensor(1.), 'leaf2': tensor(1.), 'leaf3': tensor(-1.)}),\n",
      " GraphInput({'leaf1': tensor(1.), 'leaf2': tensor(1.), 'leaf3': tensor(1.)})]\n",
      "[GraphInput({'leaf1': tensor(False), 'leaf2': tensor(False), 'leaf3': tensor(False)}),\n",
      " GraphInput({'leaf1': tensor(False), 'leaf2': tensor(False), 'leaf3': tensor(True)}),\n",
      " GraphInput({'leaf1': tensor(False), 'leaf2': tensor(True), 'leaf3': tensor(False)}),\n",
      " GraphInput({'leaf1': tensor(False), 'leaf2': tensor(True), 'leaf3': tensor(True)}),\n",
      " GraphInput({'leaf1': tensor(True), 'leaf2': tensor(False), 'leaf3': tensor(False)}),\n",
      " GraphInput({'leaf1': tensor(True), 'leaf2': tensor(False), 'leaf3': tensor(True)}),\n",
      " GraphInput({'leaf1': tensor(True), 'leaf2': tensor(True), 'leaf3': tensor(False)}),\n",
      " GraphInput({'leaf1': tensor(True), 'leaf2': tensor(True), 'leaf3': tensor(True)})]\n",
      "[{'base': (('leaf1', True), ('leaf2', True), ('leaf3', True)),\n",
      " 'interv': (('node', True),),\n",
      " 'locs': {}},\n",
      " {'base': (('leaf1', True), ('leaf2', True), ('leaf3', True)),\n",
      " 'interv': (('node', False),),\n",
      " 'locs': {}},\n",
      " {'base': (('leaf1', True), ('leaf2', True), ('leaf3', False)),\n",
      " 'interv': (('node', True),),\n",
      " 'locs': {}},\n",
      " {'base': (('leaf1', True), ('leaf2', True), ('leaf3', False)),\n",
      " 'interv': (('node', False),),\n",
      " 'locs': {}},\n",
      " {'base': (('leaf1', True), ('leaf2', False), ('leaf3', True)),\n",
      " 'interv': (('node', True),),\n",
      " 'locs': {}},\n",
      " {'base': (('leaf1', True), ('leaf2', False), ('leaf3', True)),\n",
      " 'interv': (('node', False),),\n",
      " 'locs': {}},\n",
      " {'base': (('leaf1', True), ('leaf2', False), ('leaf3', False)),\n",
      " 'interv': (('node', True),),\n",
      " 'locs': {}},\n",
      " {'base': (('leaf1', True), ('leaf2', False), ('leaf3', False)),\n",
      " 'interv': (('node', False),),\n",
      " 'locs': {}},\n",
      " {'base': (('leaf1', False), ('leaf2', True), ('leaf3', True)),\n",
      " 'interv': (('node', True),),\n",
      " 'locs': {}},\n",
      " {'base': (('leaf1', False), ('leaf2', True), ('leaf3', True)),\n",
      " 'interv': (('node', False),),\n",
      " 'locs': {}},\n",
      " {'base': (('leaf1', False), ('leaf2', True), ('leaf3', False)),\n",
      " 'interv': (('node', True),),\n",
      " 'locs': {}},\n",
      " {'base': (('leaf1', False), ('leaf2', True), ('leaf3', False)),\n",
      " 'interv': (('node', False),),\n",
      " 'locs': {}},\n",
      " {'base': (('leaf1', False), ('leaf2', False), ('leaf3', True)),\n",
      " 'interv': (('node', True),),\n",
      " 'locs': {}},\n",
      " {'base': (('leaf1', False), ('leaf2', False), ('leaf3', True)),\n",
      " 'interv': (('node', False),),\n",
      " 'locs': {}},\n",
      " {'base': (('leaf1', False), ('leaf2', False), ('leaf3', False)),\n",
      " 'interv': (('node', True),),\n",
      " 'locs': {}},\n",
      " {'base': (('leaf1', False), ('leaf2', False), ('leaf3', False)),\n",
      " 'interv': (('node', False),),\n",
      " 'locs': {}}]\n"
     ]
    }
   ],
   "source": [
    "e = tam.make_experiment()"
   ],
   "metadata": {
    "collapsed": false,
    "pycharm": {
     "name": "#%%\n"
    }
   }
  },
  {
   "cell_type": "code",
   "execution_count": 12,
   "outputs": [],
   "source": [
    "find_abstr_res = e.find_abstractions()"
   ],
   "metadata": {
    "collapsed": false,
    "pycharm": {
     "name": "#%%\n"
    }
   }
  },
  {
   "cell_type": "code",
   "execution_count": 18,
   "outputs": [
    {
     "name": "stdout",
     "output_type": "stream",
     "text": [
      "{(((('leaf1', 1.0), ('leaf2', 1.0), ('leaf3', 1.0)), (('hidden1[::,0]', 0.0),)), ((('leaf1', True), ('leaf2', True), ('leaf3', True)), (('node', True),))): tensor(False),\n",
      " (((('leaf1', 1.0), ('leaf2', 1.0), ('leaf3', 1.0)), (('hidden1[::,0]', 1.0),)), ((('leaf1', True), ('leaf2', True), ('leaf3', True)), (('node', True),))): tensor(True),\n",
      " (((('leaf1', 1.0), ('leaf2', 1.0), ('leaf3', 1.0)), (('hidden1[::,0]', 0.0),)), ((('leaf1', True), ('leaf2', True), ('leaf3', True)), (('node', False),))): tensor(True),\n",
      " (((('leaf1', 1.0), ('leaf2', 1.0), ('leaf3', -1.0)), (('hidden1[::,0]', 0.0),)), ((('leaf1', True), ('leaf2', True), ('leaf3', False)), (('node', True),))): tensor(True),\n",
      " (((('leaf1', 1.0), ('leaf2', 1.0), ('leaf3', -1.0)), (('hidden1[::,0]', 1.0),)), ((('leaf1', True), ('leaf2', True), ('leaf3', False)), (('node', True),))): tensor(False),\n",
      " (((('leaf1', 1.0), ('leaf2', 1.0), ('leaf3', -1.0)), (('hidden1[::,0]', 0.0),)), ((('leaf1', True), ('leaf2', True), ('leaf3', False)), (('node', False),))): tensor(True),\n",
      " (((('leaf1', 1.0), ('leaf2', -1.0), ('leaf3', 1.0)), (('hidden1[::,0]', 0.0),)), ((('leaf1', True), ('leaf2', False), ('leaf3', True)), (('node', True),))): tensor(False),\n",
      " (((('leaf1', 1.0), ('leaf2', -1.0), ('leaf3', 1.0)), (('hidden1[::,0]', 1.0),)), ((('leaf1', True), ('leaf2', False), ('leaf3', True)), (('node', True),))): tensor(True),\n",
      " (((('leaf1', 1.0), ('leaf2', -1.0), ('leaf3', 1.0)), (('hidden1[::,0]', 0.0),)), ((('leaf1', True), ('leaf2', False), ('leaf3', True)), (('node', False),))): tensor(True),\n",
      " (((('leaf1', 1.0), ('leaf2', -1.0), ('leaf3', -1.0)), (('hidden1[::,0]', 0.0),)), ((('leaf1', True), ('leaf2', False), ('leaf3', False)), (('node', True),))): tensor(True),\n",
      " (((('leaf1', 1.0), ('leaf2', -1.0), ('leaf3', -1.0)), (('hidden1[::,0]', 1.0),)), ((('leaf1', True), ('leaf2', False), ('leaf3', False)), (('node', True),))): tensor(True),\n",
      " (((('leaf1', 1.0), ('leaf2', -1.0), ('leaf3', -1.0)), (('hidden1[::,0]', 0.0),)), ((('leaf1', True), ('leaf2', False), ('leaf3', False)), (('node', False),))): tensor(True),\n",
      " (((('leaf1', -1.0), ('leaf2', 1.0), ('leaf3', 1.0)), (('hidden1[::,0]', 0.0),)), ((('leaf1', False), ('leaf2', True), ('leaf3', True)), (('node', True),))): tensor(False),\n",
      " (((('leaf1', -1.0), ('leaf2', 1.0), ('leaf3', 1.0)), (('hidden1[::,0]', 1.0),)), ((('leaf1', False), ('leaf2', True), ('leaf3', True)), (('node', True),))): tensor(True),\n",
      " (((('leaf1', -1.0), ('leaf2', 1.0), ('leaf3', 1.0)), (('hidden1[::,0]', 0.0),)), ((('leaf1', False), ('leaf2', True), ('leaf3', True)), (('node', False),))): tensor(True),\n",
      " (((('leaf1', -1.0), ('leaf2', 1.0), ('leaf3', -1.0)), (('hidden1[::,0]', 0.0),)), ((('leaf1', False), ('leaf2', True), ('leaf3', False)), (('node', True),))): tensor(True),\n",
      " (((('leaf1', -1.0), ('leaf2', 1.0), ('leaf3', -1.0)), (('hidden1[::,0]', 1.0),)), ((('leaf1', False), ('leaf2', True), ('leaf3', False)), (('node', True),))): tensor(True),\n",
      " (((('leaf1', -1.0), ('leaf2', 1.0), ('leaf3', -1.0)), (('hidden1[::,0]', 0.0),)), ((('leaf1', False), ('leaf2', True), ('leaf3', False)), (('node', False),))): tensor(True),\n",
      " (((('leaf1', -1.0), ('leaf2', -1.0), ('leaf3', 1.0)), (('hidden1[::,0]', 0.0),)), ((('leaf1', False), ('leaf2', False), ('leaf3', True)), (('node', True),))): tensor(False),\n",
      " (((('leaf1', -1.0), ('leaf2', -1.0), ('leaf3', 1.0)), (('hidden1[::,0]', 1.0),)), ((('leaf1', False), ('leaf2', False), ('leaf3', True)), (('node', True),))): tensor(True),\n",
      " (((('leaf1', -1.0), ('leaf2', -1.0), ('leaf3', 1.0)), (('hidden1[::,0]', 0.0),)), ((('leaf1', False), ('leaf2', False), ('leaf3', True)), (('node', False),))): tensor(True),\n",
      " (((('leaf1', -1.0), ('leaf2', -1.0), ('leaf3', -1.0)), (('hidden1[::,0]', 0.0),)), ((('leaf1', False), ('leaf2', False), ('leaf3', False)), (('node', True),))): tensor(True),\n",
      " (((('leaf1', -1.0), ('leaf2', -1.0), ('leaf3', -1.0)), (('hidden1[::,0]', 1.0),)), ((('leaf1', False), ('leaf2', False), ('leaf3', False)), (('node', True),))): tensor(True),\n",
      " (((('leaf1', -1.0), ('leaf2', -1.0), ('leaf3', -1.0)), (('hidden1[::,0]', 0.0),)), ((('leaf1', False), ('leaf2', False), ('leaf3', False)), (('node', False),))): tensor(True)}\n",
      "{'root': {'root': None},\n",
      " 'leaf1': {'leaf1': None},\n",
      " 'leaf2': {'leaf2': None},\n",
      " 'leaf3': {'leaf3': None},\n",
      " 'node': {'hidden1': (slice(None, None, None), 0)}}\n"
     ]
    }
   ],
   "source": [
    "success_list = []\n",
    "res, mapping = find_abstr_res[0]\n",
    "pp(res)\n",
    "pp(mapping)"
   ],
   "metadata": {
    "collapsed": false,
    "pycharm": {
     "name": "#%%\n"
    }
   }
  },
  {
   "cell_type": "code",
   "execution_count": null,
   "outputs": [],
   "source": [
    "for result, mapping in find_abstr_res[:1]:\n",
    "    low_node = list(mapping[\"node\"].keys())[0]\n",
    "    low_loc = mapping[\"node\"][low_node]\n",
    "    red_low_loc = reduce_dim(low_loc, 0)\n",
    "    if low_loc is None: continue\n",
    "    print(f\"Low node and loc: {low_node}{location_to_str(low_loc,add_brackets=True)}\")\n",
    "    print(f\"Reduced loc: {red_low_loc}\")\n",
    "\n",
    "    success = True\n",
    "    verify_mapping(experiment, mapping, result, low_inputs, low_model)\n",
    "    # G, causal_edges = construct_graph(low_model,high_model, mapping, result, realizations_to_inputs, \"node\", \"root\")\n",
    "    # cliques = find_cliques(G, causal_edges, 5)\n",
    "\n",
    "    # print(\"cliques:\", cliques)\n",
    "    # x = input()\n",
    "\n",
    "    for keys in result:\n",
    "        # low_intervention, high_intervention = interventions\n",
    "        low_ivn_key, high_ivn_key = keys\n",
    "        low_ivn = experiment.low_keys_to_interventions[low_ivn_key]\n",
    "        high_ivn = experiment.high_keys_to_interventions[high_ivn_key]\n",
    "\n",
    "        _, low_res = low_model.intervene(low_ivn)\n",
    "        _, high_res = high_model.intervene(high_ivn)\n",
    "\n",
    "        x, y, z = tuple(low_ivn.base[f\"leaf{i}\"] for i in range(1,4))\n",
    "        # print(f\"{x=}\")\n",
    "        a = torch.stack([x, y, z], dim=-1)\n",
    "        h = a.matmul(low_model.W) + low_model.B\n",
    "        h = F.relu(h)\n",
    "\n",
    "        assert torch.allclose(h, low_model.compute_node('hidden1', low_ivn.base))\n",
    "        if low_node == \"hidden1\":\n",
    "            ivn_value = low_ivn.intervention[low_node]\n",
    "            h[red_low_loc] = ivn_value\n",
    "\n",
    "        h2 = h.matmul(low_model.w) - low_model.b\n",
    "        if low_node == \"hidden2\":\n",
    "            ivn_value = low_ivn.intervention[low_node]\n",
    "            h2 = ivn_value\n",
    "\n",
    "        expected_low_res = h2 > 0\n",
    "\n",
    "        n = high_ivn.base[\"leaf1\"] & high_ivn.base[\"leaf2\"]\n",
    "        if \"node\" in high_ivn.intervention:\n",
    "            n = high_ivn.intervention[\"node\"]\n",
    "        expected_high_res = n & high_ivn.base[\"leaf3\"]\n",
    "\n",
    "        assert expected_low_res == low_res\n",
    "        assert expected_high_res == high_res\n",
    "        assert (expected_low_res == expected_high_res) == result[keys]\n",
    "\n",
    "        # print(f\"{expected_low_res=}\")\n",
    "        # print(f\"{expected_high_res=}\")\n",
    "\n",
    "        print(\"low_res\", low_res)\n",
    "        print(\"high_res\", high_res)\n",
    "        print(\"low intervention:\",low_ivn.intervention.values)\n",
    "        print(f\"low loc {low_node}\", location.location_to_str(low_ivn.location[low_node], add_brackets=True))\n",
    "        print(\"lowbase:\", low_ivn.base.values)\n",
    "        print(\"high intervetion:\", high_ivn.intervention.values)\n",
    "        print(\"highbase:\", high_ivn.base.values)\n",
    "        print(\"success:\", result[keys])\n",
    "        #\n",
    "        # print(\"\\n\\n\")\n",
    "        # verify_intervention(mapping,low_intervention, high_intervention, result[keys])\n",
    "\n",
    "        if not result[keys]:\n",
    "            success = False\n",
    "\n",
    "    success_list.append((success,mapping))\n",
    "\n",
    "pprint(success_list)\n",
    "\n"
   ],
   "metadata": {
    "collapsed": false,
    "pycharm": {
     "name": "#%%\n"
    }
   }
  }
 ],
 "metadata": {
  "kernelspec": {
   "display_name": "Python 3",
   "language": "python",
   "name": "python3"
  },
  "language_info": {
   "codemirror_mode": {
    "name": "ipython",
    "version": 2
   },
   "file_extension": ".py",
   "mimetype": "text/x-python",
   "name": "python",
   "nbconvert_exporter": "python",
   "pygments_lexer": "ipython2",
   "version": "2.7.6"
  }
 },
 "nbformat": 4,
 "nbformat_minor": 0
}